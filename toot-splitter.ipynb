{
 "cells": [
  {
   "attachments": {},
   "cell_type": "markdown",
   "metadata": {},
   "source": [
    "Edit the post variable before running. Be sure your post is still enclosed within the triple quotes.\n",
    "\n",
    "The threaded post will appear below."
   ]
  },
  {
   "cell_type": "code",
   "execution_count": 5,
   "metadata": {},
   "outputs": [
    {
     "name": "stdout",
     "output_type": "stream",
     "text": [
      "1/2 Mastodon is a free and open-source self-hosted social networking service. It allows anyone to host their own server node in the network, and its various separately operated user bases are federated across many different servers. These nodes are referred to as \"instances\" by Mastodon users. As of October 2021, there are more than 5,000 instances hosting more than 4.5 million users.\n",
      "Each user is a member of a specific Mastodon instance, and can also communicate with users on different instances\n",
      "\n",
      "2/2 through federation. Users post short messages called \"toots\" for others to see, subject to various privacy settings. The service seeks to distinguish itself from Twitter through its orientation towards small communities and community-based, rather than top-down, moderation.\n",
      "\n",
      "\n"
     ]
    }
   ],
   "source": [
    "post = \"\"\"Mastodon is a free and open-source self-hosted social networking service. It allows anyone to host their own server node in the network, and its various separately operated user bases are federated across many different servers. These nodes are referred to as \"instances\" by Mastodon users. As of October 2021, there are more than 5,000 instances hosting more than 4.5 million users.\n",
    "Each user is a member of a specific Mastodon instance, and can also communicate with users on different instances through federation. Users post short messages called \"toots\" for others to see, subject to various privacy settings. The service seeks to distinguish itself from Twitter through its orientation towards small communities and community-based, rather than top-down, moderation.\n",
    "\"\"\"\n",
    "\n",
    "\n",
    "block_size = 500\n",
    "counter = 1\n",
    "\n",
    "# Calculate the total number of blocks first\n",
    "total_blocks = (len(post) // block_size) + 1  # Account for possible remaining text\n",
    "\n",
    "while len(post) > 0:\n",
    "    if len(post) <= block_size:\n",
    "        block = post\n",
    "        post = \"\"\n",
    "    else:\n",
    "        last_space_index = post[:block_size].rfind(\" \")\n",
    "        block = post[:last_space_index]\n",
    "        post = post[last_space_index + 1 :]\n",
    "\n",
    "    print(f\"{counter}/{total_blocks} {block}\\n\")  # Use total_blocks\n",
    "    counter += 1\n"
   ]
  }
 ],
 "metadata": {
  "kernelspec": {
   "display_name": "Python 3",
   "language": "python",
   "name": "python3"
  },
  "language_info": {
   "codemirror_mode": {
    "name": "ipython",
    "version": 3
   },
   "file_extension": ".py",
   "mimetype": "text/x-python",
   "name": "python",
   "nbconvert_exporter": "python",
   "pygments_lexer": "ipython3",
   "version": "3.11.4"
  },
  "orig_nbformat": 4
 },
 "nbformat": 4,
 "nbformat_minor": 2
}
